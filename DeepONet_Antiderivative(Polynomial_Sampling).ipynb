{
  "cells": [
    {
      "cell_type": "code",
      "execution_count": 1,
      "metadata": {
        "id": "xaT6mtbBWlsB"
      },
      "outputs": [],
      "source": [
        "# !pip install --upgrade jaxlib\n",
        "# !pip install jax==0.4.3\n",
        "# !pip install jax-numpy-polynomial\n",
        "import numpy as onp\n",
        "import jax.numpy as np\n",
        "from jax import random, grad, vmap, jit\n",
        "from jax.example_libraries import optimizers\n",
        "from jax.experimental.ode import odeint\n",
        "from jax.nn import relu\n",
        "from jax.config import config\n",
        "\n",
        "import itertools\n",
        "from functools import partial\n",
        "from torch.utils import data\n",
        "from tqdm import trange\n",
        "import matplotlib.pyplot as plt\n"
      ]
    },
    {
      "cell_type": "markdown",
      "source": [
        "# Problem Definition\n",
        "\n",
        "**Anti-derivative Operator**\n",
        "\n",
        "Consider the ordinary differential equation (ODE) given by:\n",
        "\n",
        "$$\\frac{ds(x)}{dx}-u(x)=0$$\n",
        "\n",
        "The solution of our ODE is:\n",
        "\n",
        "$$G:u(x)→s(x)=s(0)+\\int_{0}^{x}u(t)dt$$\n",
        "\n",
        "$$x\\in[0,d_{max}]$$\n",
        "$$s(0)=0$$"
      ],
      "metadata": {
        "id": "PiaGI-me9fFO"
      }
    },
    {
      "cell_type": "markdown",
      "source": [
        "# Auxilliary Functions "
      ],
      "metadata": {
        "id": "fwqCGR1sVjTS"
      }
    },
    {
      "cell_type": "markdown",
      "source": [
        "**Sample_Polynomial**\n",
        "\n",
        "Generates a random polynomial with uniformly random sampled coefficients $c_i\\sim \\mathcal{U}[-10, 10]$, $\\ \\ u(x) = \\sum_{i=0}^{degree} c_i x^i$\n",
        "\n",
        "**Inputs:** \n",
        "\n",
        "*   **degree** =  degree of the polynomial \n",
        "*   **n** = numer of grid points over which polynomial values are given\n",
        "\n",
        "**Output:** An array of size (n,2), where each row is a sample (x, y).\n"
      ],
      "metadata": {
        "id": "lOgn0RFbdsmI"
      }
    },
    {
      "cell_type": "code",
      "execution_count": 2,
      "metadata": {
        "id": "UKGM5Kx2XK0d"
      },
      "outputs": [],
      "source": [
        "def sample_polynomial(degree, m_train, key):\n",
        "    x_values = onp.linspace(d_min, d_max, m_train)\n",
        "    coefficients = random.uniform(key, shape=(degree + 1,), minval=-10, maxval=10)\n",
        "    y_values = np.polyval(coefficients, x_values)\n",
        "    samples = np.column_stack((x_values, y_values))\n",
        "    return samples\n"
      ]
    },
    {
      "cell_type": "code",
      "execution_count": 3,
      "metadata": {
        "id": "bxtizWoyXNOA"
      },
      "outputs": [],
      "source": [
        "def plot_us(x,u,y,s):\n",
        "  fig, ax1 = plt.subplots(figsize=(8, 6))\n",
        "  plt.rcParams['font.size'] = '18'\n",
        "  color='black'\n",
        "  wdt=1.5\n",
        "  ax1.plot(x,u,'k--',label='$u(x)=ds/dx$',linewidth=wdt)\n",
        "  ax1.plot(y,s,'-',label='$s(x)=s(0)+\\int u(t)dt|_{t=y}$',linewidth=wdt)\n",
        "  ax1.set_xlabel('x')\n",
        "  ax1.set_ylabel('u')\n",
        "  ax1.tick_params(axis='y', color=color)\n",
        "  ax1.legend(loc = 'lower right', ncol=1)\n",
        "  "
      ]
    },
    {
      "cell_type": "markdown",
      "source": [
        "# Initialization of Variables"
      ],
      "metadata": {
        "id": "sbYjRmKYmWJv"
      }
    },
    {
      "cell_type": "code",
      "execution_count": 53,
      "metadata": {
        "id": "iCW83hScXQf3"
      },
      "outputs": [],
      "source": [
        "degree = 5\n",
        "d_max = 1\n",
        "d_min = (0) # constant\n",
        "m = 250 # number of input sensors\n",
        "x = np.linspace(0, 1, m)\n",
        "key = random.PRNGKey(0)  # use different key for generating training data and test data \n",
        "config.update(\"jax_enable_x64\", True) # Enable double precision"
      ]
    },
    {
      "cell_type": "markdown",
      "source": [
        "# Demonstration of odeint() Generating a Single Training Data"
      ],
      "metadata": {
        "id": "jQah3Jj8WJY1"
      }
    },
    {
      "cell_type": "code",
      "source": [
        "m_train = (degree + 1) \n",
        "P_train = 5 \n",
        "\n",
        "# Sample a random polynomial at `m_train` points on [0 , d_max]\n",
        "samples = sample_polynomial(degree, m_train, key)\n",
        "coeffs = np.polyfit(samples[:, 0], samples[:, 1], degree)\n",
        "\n",
        "# Create a callable polynomial evaluation function \n",
        "u_fn = lambda a, b: np.polyval(coeffs, b)\n",
        "\n",
        "# Input measurements\n",
        "u = u_fn(coeffs, x)\n",
        "\n",
        "# Collocation points and labels\n",
        "y_train = random.uniform(key=key, shape=(P_train*100,), maxval=d_max).sort()\n",
        "s_train = odeint(u_fn, 0.0, y_train) \n",
        "\n",
        "plot_us(x,u,y_train,s_train)\n",
        "\n",
        "print('The polynomial coefficients, given in descending order of power, are: ', coeffs)\n"
      ],
      "metadata": {
        "id": "sEq_CLXpafO1",
        "colab": {
          "base_uri": "https://localhost:8080/",
          "height": 425
        },
        "outputId": "a476bd84-57cf-4564-94aa-e58f963dbc17"
      },
      "execution_count": 6,
      "outputs": [
        {
          "output_type": "stream",
          "name": "stdout",
          "text": [
            "The polynomial coefficients, given in descending order of power, are:  [ 7.66017952 -7.28532257  3.42724993  4.50473536 -3.0486447   5.1145189 ]\n"
          ]
        },
        {
          "output_type": "display_data",
          "data": {
            "text/plain": [
              "<Figure size 576x432 with 1 Axes>"
            ],
            "image/png": "[encoded data removed]"
          },
          "metadata": {
            "needs_background": "light"
          }
        }
      ]
    },
    {
      "cell_type": "markdown",
      "source": [
        "# Data Generating Function"
      ],
      "metadata": {
        "id": "wfcIVVR7BlfC"
      }
    },
    {
      "cell_type": "markdown",
      "source": [
        "**DeepOnet**\n",
        "\n",
        "Learn the solution operators of ODE → We will try to approximate ${\\cal G}$  (the solution of our ODE operator) by two neural networks:\n",
        "\n",
        "\n",
        "$$G_\\theta(u)(y)=\\sum_{k=1}^q\\underset{Branch}{\\underbrace{{\\cal N}_{B,k}\\left(u(x_1),u(x_2),...,u(x_m)\\right)}}.\\underset{Trunk}{\\underbrace{{\\cal N}_{T,k}(\\textbf{y})}}$$\n",
        "\n",
        "\n",
        "We want to obtain G, so our goal would be:\n",
        "\n",
        " $$\\tilde{{\\cal G}}_(u)(y)\\approx G(u)(y)$$\n",
        "\n",
        "So we will enforce that condition into a loss function:\n",
        "\n",
        "$$\n",
        "\\hat{\\cal L}_{train}(\\theta) = \\frac{1}{N_{train}P_{train}}\\sum_{i=1}^N\\sum_{j=1}^{P_{train}}\\left|\\int_{0}^{y_j}u_i(t)dt -\\tilde{\\cal G}(\\mathbf u_i)\\Big{|}_{y_j}\\right|^2\n",
        "$$\n",
        "\n",
        "$$\n",
        "\\hat{\\cal L}_{train}(\\theta) = \\frac{1}{N_{train}P_{train}}\\sum_{i=1}^N\\sum_{j=1}^{P_{train}}\\left|\\underset{s_{ij}}{\\underbrace{\\int_{0}^{y_{j}}u_i(t)dt}} -\\sum_{k=1}^q{\\cal N}_{\\mathrm{B,k}}(u_i(x_1),u_i(x_2),\\dots,u_i(x_m))\\cdot{\\cal N}_{\\mathrm{T,k}}(y_j)\\right|^2.\n",
        "$$\n",
        "\n",
        "**Parameters** \\\\\n",
        "𝑚 = Number of branch net input sensors\n",
        "\n",
        "$N_{train}$ = Number of input functions $𝑢_i(𝑥)$ in our training data\n",
        "\n",
        "$𝑃_{train}$:  Number of collocation points $y_j$\n",
        "\n",
        "$$\\underset{Training \\ Data}{\\underbrace{u_{train}\\in \\mathbb{R}^{N_{train}\\times𝑃_{train} \\ \\times \\ m}, \\ y_{train}\\in \\mathbb{R}^{N_{train}\\times𝑃_{train}}, \\ s_{train}\\in \\mathbb{R}^{N_{train}\\times𝑃_{train}}}}$$\n",
        "\n",
        "We define the test loss function as: \n",
        "$$\n",
        "\\hat{\\cal L}_{test}(\\theta) = \\frac{1}{SP_{test}}\\sum_{i=1}^S\\sum_{j=1}^{P_{test}}\\left|\\int_{0}^{y_j}u_i(t)dt -\\sum_{k=1}^q{\\cal N}_{\\mathrm{B,k}}(u_i(x_1),u_i(x_2),\\dots,u_i(x_m))\\cdot{\\cal N}_{\\mathrm{T,k}}(y_j)\\right|^2.\n",
        "$$\n",
        "\n",
        "**Parameters** \\\\\n",
        "\n",
        "$N_{test}$:  Number of input functions $𝑢_i(𝑥)$ in our test data\n",
        "\n",
        "$P_{test}$:  Number of points at which we evaluate the antiderivative $\\tilde{\\cal 𝐺}(𝑢)$ of the test sample u\n",
        "\n",
        "$$\\underset{Test \\ Data}{\\underbrace{u_{test}\\in \\mathbb{R}^{N_{test}\\times P_{test} \\ \\times \\ m}, \\ y_{test}\\in \\mathbb{R}^{N_{test}\\times P_{test}}, \\ s_{test}\\in \\mathbb{R}^{N_{test}\\times P_{test}}}}$$\n",
        "\n",
        "**Note:** both the function $u_i(t)$ and the ODE solution $\\int_{0}^{y_j}u_i(t)dt$ are sampled/evaluated in the domain $[0,d_{max}]$."
      ],
      "metadata": {
        "id": "J9hnx33ugkU4"
      }
    },
    {
      "cell_type": "code",
      "source": [
        "def generate_data(degree, key, m_train, P, is_training):\n",
        "  # Sample a random polynomial at `m_train` points on [0 , d_max]\n",
        "  samples = sample_polynomial(degree, m_train, key)\n",
        "  coeffs = np.polyfit(samples[:, 0], samples[:, 1], degree)\n",
        "\n",
        "  # Create a callable polynomial evaluation function \n",
        "  u_fn = lambda a, b: np.polyval(coeffs, b)\n",
        "\n",
        "  # Input measurements\n",
        "  u = u_fn(0, x)\n",
        "\n",
        "  if is_training:\n",
        "      # Collocation points and ODE measurements\n",
        "      y = random.uniform(key=key, shape=(P,), maxval=d_max).sort()\n",
        "      s = odeint(u_fn, 0.0, np.hstack((0.0, y)))[1:]\n",
        "  else:\n",
        "      # Output sensor locations and ODE measurements\n",
        "      y = np.linspace(0, d_max, P)\n",
        "      s = odeint(u_fn, 0.0, y)\n",
        "\n",
        "  # Tile inputs to match size of y,s\n",
        "  u = np.tile(u, (P,1))\n",
        "  \n",
        "  return u, y, s\n"
      ],
      "metadata": {
        "id": "AtN9xmYO-usy"
      },
      "execution_count": 38,
      "outputs": []
    },
    {
      "cell_type": "markdown",
      "metadata": {
        "id": "YBU0D30FXswd"
      },
      "source": [
        "# Generate Data "
      ]
    },
    {
      "cell_type": "code",
      "source": [
        "# Training Data \n",
        "N_train = 10000 # number of input functions \n",
        "P_train = int(0.75*degree) # number of collocation points (Constant)\n",
        "m_train = (degree + 1)\n",
        "config.update(\"jax_enable_x64\", True) # Enable double precision\n",
        "key_train = random.PRNGKey(0)  # use different keys for generating training data and test data \n",
        "keys = random.split(key_train, N_train) # Obtain N_train random numbers\n",
        "     \n",
        "gen_fn = jit(lambda key: generate_data(degree, key, m_train, P_train, is_training=True)) \n",
        "u_train, y_train, s_train = vmap(gen_fn)(keys)\n",
        "\n",
        "# # DEBUG\n",
        "# for i in range(len(u_train)):\n",
        "#     print(\"u_train[\", i, \"]: \", u_train[i])\n",
        "# for i in range(len(y_train)):\n",
        "#   print(\"y_train[\", i, \"]: \", y_train[i])\n",
        "# for i in range(len(s_train)):\n",
        "#   print(\"s_train[\", i, \"]: \", s_train[i]) \n",
        "\n",
        "#Reshape the data\n",
        "u_train = np.float32(u_train.reshape(N_train * P_train,-1))\n",
        "y_train = np.float32(y_train.reshape(N_train * P_train,-1))\n",
        "s_train = np.float32(s_train.reshape(N_train * P_train,-1))"
      ],
      "metadata": {
        "id": "HDRrF9cvttRE"
      },
      "execution_count": 57,
      "outputs": []
    },
    {
      "cell_type": "code",
      "source": [
        "# Testing Data\n",
        "N_test = 500 # number of input samples \n",
        "P_test = 200 # number of test ODE evaluation points \n",
        "m_test = degree*20\n",
        "key_test = random.PRNGKey(12345) # a different key \n",
        "     \n",
        "keys = random.split(key_test, N_test)\n",
        "gen_fn = jit(lambda key: generate_data(degree, key, m_test, P_test, is_training=False))\n",
        "u, y, s = vmap(gen_fn)(keys)\n",
        "\n",
        "uflat1 = u[0,:]\n",
        "uflat2 = uflat1[0,:]\n",
        "print('TEST polynomial coefficients, given in descending order of power, are: ', np.polyfit(x, uflat2, degree))\n",
        "\n",
        "# # # DEBUG\n",
        "# for i in range(len(y)):\n",
        "#     print(\"u[\", i, \"]: \", u[i])\n",
        "# for i in range(len(y)):\n",
        "#   print(\"y[\", i, \"]: \", y[i])\n",
        "# for i in range(len(y)):\n",
        "#   print(\"s[\", i, \"]: \", s[i])\n",
        "\n",
        "#Reshape the data\n",
        "u_test = np.float32(u.reshape(N_test * P_test,-1))\n",
        "y_test = np.float32(y.reshape(N_test * P_test,-1))\n",
        "s_test = np.float32(s.reshape(N_test * P_test,-1))"
      ],
      "metadata": {
        "colab": {
          "base_uri": "https://localhost:8080/"
        },
        "id": "C0kpKqPUtxNh",
        "outputId": "62b50dd8-4735-4364-ca07-d22ef5c91f04"
      },
      "execution_count": 58,
      "outputs": [
        {
          "output_type": "stream",
          "name": "stdout",
          "text": [
            "TEST polynomial coefficients, given in descending order of power, are:  [-5.87691144 -1.82640688 -3.72605287  6.06799316 -1.40657233  0.66986433]\n"
          ]
        }
      ]
    },
    {
      "cell_type": "code",
      "execution_count": 59,
      "metadata": {
        "id": "pi1-Lv7fXrNP"
      },
      "outputs": [],
      "source": [
        "# Data generator\n",
        "class DataGenerator(data.Dataset):\n",
        "    def __init__(self, u, y, s, batch_size, rng_key=random.PRNGKey(1234)):\n",
        "        'Initialization'\n",
        "        self.u = u # input sample\n",
        "        self.y = y # location\n",
        "        self.s = s # labeled data evulated at y (solution measurements)\n",
        "        self.N = u.shape[0]\n",
        "        self.batch_size = batch_size\n",
        "        self.key = rng_key\n",
        "\n",
        "    def __getitem__(self, index):\n",
        "        'Generate one batch of data'\n",
        "        self.key, subkey = random.split(self.key)\n",
        "        inputs, outputs = self.__data_generation(subkey)\n",
        "        return inputs, outputs\n",
        "\n",
        "    @partial(jit, static_argnums=(0,))\n",
        "    def __data_generation(self, key):\n",
        "        'Generates data containing batch_size samples'\n",
        "        idx = random.choice(key, self.N, (self.batch_size,), replace=False)\n",
        "        s = self.s[idx,:]\n",
        "        y = self.y[idx,:]\n",
        "        u = self.u[idx,:]\n",
        "        # Construct batch\n",
        "        inputs = (u, y)\n",
        "        outputs = s\n",
        "        return inputs, outputs\n",
        "\n",
        "    # # Number of batches per dataset\n",
        "    # def __len__(self):\n",
        "    #     return self.N // self.batch_size\n"
      ]
    },
    {
      "cell_type": "markdown",
      "metadata": {
        "id": "wqnip1BRXwT1"
      },
      "source": [
        "# DeepONet "
      ]
    },
    {
      "cell_type": "code",
      "execution_count": 54,
      "metadata": {
        "id": "VFtG0SctXwDq"
      },
      "outputs": [],
      "source": [
        "# Define the neural net\n",
        "def MLP(layers, activation=relu):\n",
        "  ''' Vanilla MLP'''\n",
        "  def init(rng_key):\n",
        "      def init_layer(key, d_in, d_out):\n",
        "          k1, k2 = random.split(key)\n",
        "          glorot_stddev = 1. / np.sqrt((d_in + d_out) / 2.)\n",
        "          W = glorot_stddev * random.normal(k1, (d_in, d_out))\n",
        "          b = np.zeros(d_out)\n",
        "          return W, b\n",
        "      key, *keys = random.split(rng_key, len(layers))\n",
        "      params = list(map(init_layer, keys, layers[:-1], layers[1:]))\n",
        "      return params\n",
        "  def apply(params, inputs):\n",
        "      for W, b in params[:-1]:\n",
        "          outputs = np.dot(inputs, W) + b\n",
        "          inputs = activation(outputs)\n",
        "      W, b = params[-1]\n",
        "      outputs = np.dot(inputs, W) + b\n",
        "      return outputs\n",
        "  return init, apply\n",
        "     "
      ]
    },
    {
      "cell_type": "code",
      "source": [
        "# Define the model\n",
        "class DeepONet:\n",
        "    def __init__(self, branch_layers, trunk_layers):    \n",
        "        # Network initialization and evaluation functions\n",
        "        self.branch_init, self.branch_apply = MLP(branch_layers, activation=relu)\n",
        "        self.trunk_init, self.trunk_apply = MLP(trunk_layers, activation=relu)\n",
        "\n",
        "        # Initialize\n",
        "        branch_params = self.branch_init(rng_key = random.PRNGKey(1234))\n",
        "        trunk_params = self.trunk_init(rng_key = random.PRNGKey(4321))\n",
        "        params = (branch_params, trunk_params)\n",
        "\n",
        "        # Use optimizers to set optimizer initialization and update functions\n",
        "        self.opt_init, \\\n",
        "        self.opt_update, \\\n",
        "        self.get_params = optimizers.adam(optimizers.exponential_decay(1e-3, \n",
        "                                                                      decay_steps=1000, \n",
        "                                                                      decay_rate=0.9))\n",
        "        self.opt_state = self.opt_init(params)\n",
        "\n",
        "        self.itercount = itertools.count()\n",
        "\n",
        "        # Logger\n",
        "        self.loss_log = []\n",
        "        self.test_loss_log = [] # stores the test loss after every 100 iterations\n",
        "\n",
        "    # Define opeartor net\n",
        "    def operator_net(self, params, u, y):\n",
        "        branch_params, trunk_params = params\n",
        "        B = self.branch_apply(branch_params, u)\n",
        "        T = self.trunk_apply(trunk_params, y)\n",
        "        outputs = np.sum(B * T)\n",
        "        return outputs\n",
        "      \n",
        "    # Define ODE/PDE residual\n",
        "    def residual_net(self, params, u, y):\n",
        "        s_y = grad(self.operator_net, argnums = 2)(params, u, y)\n",
        "        return s_y\n",
        "\n",
        "    # Define loss\n",
        "    def loss(self, params, batch):\n",
        "        # Fetch data\n",
        "        # inputs: (u, y), shape = (N, m), (N,1)\n",
        "        # outputs: s, shape = (N,1)\n",
        "        inputs, outputs = batch\n",
        "        u, y = inputs\n",
        "        # Compute forward pass\n",
        "        # print(\"params:\", params)\n",
        "        pred = vmap(self.operator_net, (None, 0, 0))(params, u, y)\n",
        "        # Compute loss\n",
        "        loss = np.mean((outputs.flatten() - pred)**2)\n",
        "        # print(\"Inputs:\", inputs)\n",
        "        return loss\n",
        "\n",
        "    # Define a compiled update step\n",
        "    @partial(jit, static_argnums=(0,))\n",
        "    def step(self, i, opt_state, batch):\n",
        "        params = self.get_params(opt_state)\n",
        "        g = grad(self.loss)(params, batch)\n",
        "        return self.opt_update(i, g, opt_state)\n",
        "\n",
        "    # Optimize parameters in a loop\n",
        "    def train(self, dataset, nIter):\n",
        "        data = iter(dataset)\n",
        "        pbar = trange(nIter)\n",
        "        # Main training loop\n",
        "        for it in pbar:\n",
        "            batch = next(data)\n",
        "            self.opt_state = self.step(next(self.itercount), self.opt_state, batch)\n",
        "            \n",
        "            if it % 100 == 0:\n",
        "                params = self.get_params(self.opt_state)\n",
        "                # Compute loss\n",
        "                loss_value = self.loss(params, batch)\n",
        "                # Store loss\n",
        "                self.loss_log.append(loss_value)\n",
        "                # Print loss during training\n",
        "                pbar.set_postfix({'Training Loss': loss_value})\n",
        "\n",
        "                # Compute and store test loss\n",
        "                params = self.get_params(self.opt_state)\n",
        "                s_pred = model.predict_s(params, u_test, y_test)[:,None]  \n",
        "                test_loss = np.mean((s_test - s_pred)**2)/np.mean((s_test)**2)\n",
        "                self.test_loss_log.append(test_loss)\n",
        "       \n",
        "    # Evaluates predictions at test points  \n",
        "    @partial(jit, static_argnums=(0,))\n",
        "    def predict_s(self, params, U_star, Y_star):\n",
        "        s_pred = vmap(self.operator_net, (None, 0, 0))(params, U_star, Y_star)\n",
        "        return s_pred\n",
        "\n",
        "    @partial(jit, static_argnums=(0,))\n",
        "    def predict_s_y(self, params, U_star, Y_star):\n",
        "        s_y_pred = vmap(self.residual_net, (None, 0, 0))(params, U_star, Y_star)\n",
        "        return s_y_pred"
      ],
      "metadata": {
        "id": "-2mUQ5RAorgK"
      },
      "execution_count": 55,
      "outputs": []
    },
    {
      "cell_type": "markdown",
      "metadata": {
        "id": "Cp49e2OnX1i4"
      },
      "source": [
        "# Evaluate operator"
      ]
    },
    {
      "cell_type": "code",
      "execution_count": 63,
      "metadata": {
        "id": "-LlalLb_X2rC",
        "colab": {
          "base_uri": "https://localhost:8080/"
        },
        "outputId": "79134436-6620-41b9-92d5-615824ab0a81"
      },
      "outputs": [
        {
          "output_type": "stream",
          "name": "stderr",
          "text": [
            "100%|██████████| 25000/25000 [52:56<00:00,  7.87it/s, Training Loss=1.963322539650247e-05]\n"
          ]
        },
        {
          "output_type": "stream",
          "name": "stdout",
          "text": [
            "Optimized DeepONet's Average Fractional Test Loss:  0.0014710649755812055\n"
          ]
        }
      ],
      "source": [
        "# Initialize model\n",
        "# For vanilla DeepONet, shallower network yields better accuarcy.\n",
        "branch_layers = [m, 100, 100] \n",
        "trunk_layers =  [1, 100, 100]\n",
        "\n",
        "model = DeepONet(branch_layers, trunk_layers)\n",
        " \n",
        "# Create data set\n",
        "batch_size = 5000 \n",
        "dataset = DataGenerator(u_train, y_train, s_train, batch_size)\n",
        "\n",
        "# Train\n",
        "model.train(dataset, nIter=25000)\n",
        "\n",
        "# Predict\n",
        "params = model.get_params(model.opt_state)\n",
        "s_pred = model.predict_s(params, u_test, y_test)[:,None]  \n",
        "# s_y_pred = model.predict_s_y(params, u_test, y_test) # remember that s_y=ds/dy=u\n",
        "\n",
        "# Compute relative l2 error\n",
        "error_s = np.linalg.norm(s_test - s_pred) / np.linalg.norm(s_test) \n",
        "# error_u = np.linalg.norm(u_test[::P_test].flatten()[:,None] - s_y_pred) / np.linalg.norm(u_test[::P_test].flatten()[:,None])  \n",
        "\n",
        "print('Optimized DeepONet\\'s Average Fractional Test Loss: ', error_s)\n"
      ]
    },
    {
      "cell_type": "markdown",
      "metadata": {
        "id": "I_U2IjaOX75e"
      },
      "source": [
        "# Visualise results"
      ]
    },
    {
      "cell_type": "code",
      "execution_count": 64,
      "metadata": {
        "colab": {
          "base_uri": "https://localhost:8080/",
          "height": 721
        },
        "id": "EiSiWjOcX88y",
        "outputId": "6df4ff9c-1332-42e9-b067-3351a4ec4128"
      },
      "outputs": [
        {
          "output_type": "display_data",
          "data": {
            "text/plain": [
              "<Figure size 864x360 with 2 Axes>"
            ],
            "image/png": "[encoded data removed]"
          },
          "metadata": {
            "needs_background": "light"
          }
        },
        {
          "output_type": "display_data",
          "data": {
            "text/plain": [
              "<Figure size 864x360 with 1 Axes>"
            ],
            "image/png": "[encoded data removed]"
          },
          "metadata": {
            "needs_background": "light"
          }
        }
      ],
      "source": [
        "idx = 0 # choose which test data to plot\n",
        "index = np.arange(idx * P_test,(idx + 1) * P_test)\n",
        "     \n",
        "# Compute the relative l2 error for one input sample \n",
        "# error_u = np.linalg.norm(s_test[index, :] - s_pred[index, :], 2) / np.linalg.norm(s_test[index, :], 2) \n",
        "# error_s = np.linalg.norm(u_test[::P_test][idx].flatten()[:,None] - s_y_pred[index, :], 2) / np.linalg.norm(u_test[::P_test][idx].flatten()[:,None], 2) \n",
        "\n",
        "# print(\"error_u: {:.3e}\".format(error_u))\n",
        "# print(\"error_s: {:.3e}\".format(error_s))\n",
        "\n",
        "# Visualizations\n",
        "# Predicted solution s(y)\n",
        "plt.figure(figsize=(12,5))\n",
        "plt.subplot(1,2,1)\n",
        "plt.plot(y_test[index, :], s_test[index, :], label='Exact Solution', lw=2) # use 'o-' to show test points\n",
        "plt.plot(y_test[index, :], s_pred[index, :], '--', label='Predicted Solution', lw=2)\n",
        "plt.xlabel('Test Evaluation Points (j)', fontsize='large')\n",
        "plt.ylabel('Solution ($s_{1,j}$)', fontsize='large')\n",
        "plt.title('Comparison of Predicted and Exact Results for the First Test Data', fontsize='large')\n",
        "plt.tight_layout()\n",
        "plt.legend()\n",
        "\n",
        "plt.subplot(1,2,2)\n",
        "plt.plot(y_test[index, :], np.log(s_test[index, :]) - np.log(s_pred[index, :]), '--', lw=2, label='error')\n",
        "plt.xlabel('Test Evaluation Points', fontsize='large')\n",
        "plt.ylabel('Difference between Exact and Predicted Solutions (log scale)', fontsize='medium')\n",
        "plt.title('Error Analysis of Predicted Solution for the First Test Data', fontsize='large')\n",
        "plt.tight_layout()\n",
        "plt.show()\n",
        "\n",
        "# Plot test loss per iteration\n",
        "test_loss_eval_numbers = range(1, len(model.test_loss_log) + 1)\n",
        "fig = plt.figure(figsize=(12,5))\n",
        "plt.subplot(1,2,1)\n",
        "plt.plot(test_loss_eval_numbers, model.test_loss_log, '--', label='Avg Test loss')\n",
        "plt.yscale('log')\n",
        "plt.xlabel(r'Iterations (Scaled by $10^2$)', fontsize='large')\n",
        "plt.ylabel('Average Test Loss', fontsize='large')\n",
        "plt.title('Evolution of Average Test Loss over Iterations', fontsize='large')\n",
        "plt.tight_layout()\n",
        "plt.show()\n",
        "\n",
        "# Predicted residual u(x)\n",
        "# fig = plt.figure(figsize=(12,5))\n",
        "# plt.subplot(1,2,1)\n",
        "# plt.plot(y_test[index, :], u_test[::P_test][idx], label='Exact u', lw=2)\n",
        "# plt.plot(y_test[index, :], s_y_pred[index,:], '--', label='Predicted u', lw=2)\n",
        "# plt.legend()\n",
        "# plt.tight_layout()\n",
        "\n",
        "# plt.subplot(1,2,2)\n",
        "# plt.plot(y_test[index, :], s_y_pred[index,:].flatten() - u_test[::P_test][idx] , '--', label='error', lw=2)\n",
        "# plt.legend()\n",
        "# plt.tight_layout()\n",
        "# plt.show()"
      ]
    }
  ],
  "metadata": {
    "colab": {
      "provenance": [],
      "collapsed_sections": [
        "fwqCGR1sVjTS",
        "sbYjRmKYmWJv",
        "jQah3Jj8WJY1",
        "wfcIVVR7BlfC",
        "wqnip1BRXwT1"
      ],
      "authorship_tag": "ABX9TyPvnLXrlY576gUxESO78ga1"
    },
    "kernelspec": {
      "display_name": "Python 3",
      "name": "python3"
    },
    "language_info": {
      "name": "python"
    }
  },
  "nbformat": 4,
  "nbformat_minor": 0
}