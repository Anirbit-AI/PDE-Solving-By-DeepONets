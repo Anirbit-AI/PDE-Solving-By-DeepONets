{
  "cells": [
    {
      "cell_type": "code",
      "execution_count": 41,
      "metadata": {
        "id": "xaT6mtbBWlsB"
      },
      "outputs": [],
      "source": [
        "# !pip install --upgrade jaxlib\n",
        "# !pip install jax==0.4.3\n",
        "# !pip install jax-numpy-polynomial\n",
        "import numpy as onp\n",
        "import jax.numpy as np\n",
        "from jax import random, grad, vmap, jit\n",
        "from jax.example_libraries import optimizers\n",
        "from jax.experimental.ode import odeint\n",
        "from jax.nn import relu\n",
        "from jax.config import config\n",
        "\n",
        "import itertools\n",
        "from functools import partial\n",
        "from torch.utils import data\n",
        "from tqdm import trange\n",
        "import matplotlib.pyplot as plt\n"
      ]
    },
    {
      "cell_type": "markdown",
      "source": [
        "# Problem Definition\n",
        "\n",
        "**Anti-derivative Operator**\n",
        "\n",
        "Consider the ordinary differential equation (ODE) given by:\n",
        "\n",
        "$$\\frac{ds(x)}{dx}-u(x)=0$$\n",
        "\n",
        "The solution of our ODE is:\n",
        "\n",
        "$$G:f(x)→s(x)=s(0)+\\int_{0}^{x}f(t)dt$$\n",
        "\n",
        "$$x\\in[0,1]$$\n",
        "$$s(0)=0$$"
      ],
      "metadata": {
        "id": "PiaGI-me9fFO"
      }
    },
    {
      "cell_type": "markdown",
      "source": [
        "# Auxilliary Functions "
      ],
      "metadata": {
        "id": "fwqCGR1sVjTS"
      }
    },
    {
      "cell_type": "markdown",
      "source": [
        "**Sample_Polynomial()**\n",
        "\n",
        "Generates a sample of a polynomial defined as a linear combination of the basis functions ${1, x, x^2, ..., x^d}$, where $d$ is the degree of the polynomial.\n",
        "\n",
        "**Args:** \n",
        "\n",
        "*   **degree**, the degree of the polynomial; \n",
        "*   **num_samples**, the number of samples to be generated;\n",
        "*   **key**, a random seed for generating the coefficients of the polynomial;  \n",
        "* **domain_min** and **domain_max**, the minimum and maximum values of the domain respectively.\n",
        "\n",
        "**Output:** An array of size (num_samples * 2), where each row is a sample (x, y).\n",
        "\n",
        "The polynomial sampling function generates a polynomial of degree degree with randomly sampled coefficients $c_i$. The coefficients are sampled from a uniform distribution over the interval $[-10, 10]$, so we can write:\n",
        "\n",
        "$$c_i \\sim \\mathcal{U}(-10, 10),$$\n",
        "\n",
        "and the polynomial can be expressed as:\n",
        "\n",
        "$$p(x) = \\sum_{i=0}^{d} c_i x^i$$\n",
        "\n",
        "where d is the degree of the polynomial and c_i are the coefficients.\n"
      ],
      "metadata": {
        "id": "lOgn0RFbdsmI"
      }
    },
    {
      "cell_type": "code",
      "execution_count": 60,
      "metadata": {
        "id": "UKGM5Kx2XK0d"
      },
      "outputs": [],
      "source": [
        "def sample_polynomial(degree, m, key, domain_min=0, domain_max=1):\n",
        "    x_values = onp.linspace(domain_min, domain_max, m)\n",
        "    coefficients = random.uniform(key, shape=(degree + 1,), minval=-10, maxval=10)\n",
        "    y_values = np.polyval(coefficients, x_values)\n",
        "    samples = np.column_stack((x_values, y_values))\n",
        "    return samples\n"
      ]
    },
    {
      "cell_type": "code",
      "execution_count": 61,
      "metadata": {
        "id": "bxtizWoyXNOA"
      },
      "outputs": [],
      "source": [
        "def plot_us(x,u,y,s):\n",
        "  fig, ax1 = plt.subplots(figsize=(8, 6))\n",
        "  plt.rcParams['font.size'] = '18'\n",
        "  color='black'\n",
        "  wdt=1.5\n",
        "  ax1.plot(x,u,'k--',label='$u(x)=ds/dx$',linewidth=wdt)\n",
        "  ax1.plot(y,s,'o-',label='$s(x)=s(0)+\\int u(t)dt|_{t=y}$',linewidth=wdt)\n",
        "  ax1.set_xlabel('x',fontsize='large')\n",
        "  ax1.set_ylabel('u',fontsize='large')\n",
        "  ax1.tick_params(axis='y', color=color)\n",
        "  ax1.legend(loc = 'lower right', ncol=1)\n",
        "  "
      ]
    },
    {
      "cell_type": "markdown",
      "metadata": {
        "id": "58GlgCgaXPwx"
      },
      "source": [
        "# Initialization of Variables"
      ]
    },
    {
      "cell_type": "code",
      "execution_count": 73,
      "metadata": {
        "id": "iCW83hScXQf3"
      },
      "outputs": [],
      "source": [
        "degree = 50\n",
        "domain_min = 0\n",
        "domain_max = 1\n",
        "N_train = 2 # overridden in data gen\n",
        "P_train = 5 # overridden in data gen\n",
        "m = 100 # number of input sensors\n",
        "x = np.linspace(0, 1, m)\n",
        "key = random.PRNGKey(0)  # use different key for generating training data and test data \n",
        "config.update(\"jax_enable_x64\", True) # Enable double precision"
      ]
    },
    {
      "cell_type": "markdown",
      "source": [
        "# Demonstration of odeint() Generating a Single Training Data"
      ],
      "metadata": {
        "id": "jQah3Jj8WJY1"
      }
    },
    {
      "cell_type": "markdown",
      "source": [
        "$u_{fn}$: A callable polynomial function that uses np.polyval() to recreate the polynomial sample and evaluate it at the points in 't'.\n",
        "\n",
        "$u$: evaluates the $u_{fn}$ function at $x$ and assign result to $u$\n",
        "\n",
        "**Note**: In this code block, the grid for sampling the polynomial input is determined by np.linspace(0, 1, N), while the grid for evaluating the solution of the ODE is determined by y_train which is obtained by np.take(y_train, sorted_indices)."
      ],
      "metadata": {
        "id": "mraMX0okda9Y"
      }
    },
    {
      "cell_type": "code",
      "source": [
        "# Sample polynomial at `m` sensor points on [0,1]\n",
        "samples = sample_polynomial(degree, m, key)\n",
        "coeffs = np.polyfit(samples[:, 0], samples[:, 1], degree)\n",
        "\n",
        "# Input sensor locations and measurements\n",
        "u = samples[:,1]\n",
        "\n",
        "# Create a callable interpolation function \n",
        "u_fn = lambda x, t: np.polyval(coeffs, t)\n",
        "\n",
        "# Output sensor locations and measurements\n",
        "y_train = random.uniform(key=key, shape=(P_train*100,)).sort()\n",
        "s_train = odeint(u_fn, 0.0, y_train) \n",
        "\n",
        "plot_us(x,u,y_train,s_train)\n",
        "\n",
        "print('The polynomial coefficients, given in descending order of power, are: ', coeffs)\n"
      ],
      "metadata": {
        "id": "sEq_CLXpafO1",
        "colab": {
          "base_uri": "https://localhost:8080/",
          "height": 423
        },
        "outputId": "b24ec58a-ba1e-4493-bad1-1a342ec27b2d"
      },
      "execution_count": 54,
      "outputs": [
        {
          "output_type": "stream",
          "name": "stdout",
          "text": [
            "The polynomial coefficients, given in descending order of power, are:  [ 9.30642922 -5.4968192 ]\n"
          ]
        },
        {
          "output_type": "display_data",
          "data": {
            "text/plain": [
              "<Figure size 576x432 with 1 Axes>"
            ],
            "image/png": "[encoded data removed]"
          },
          "metadata": {
            "needs_background": "light"
          }
        }
      ]
    },
    {
      "cell_type": "markdown",
      "source": [
        "# Generating Training and Test Data (Functions)"
      ],
      "metadata": {
        "id": "ehwMj6-TcwAR"
      }
    },
    {
      "cell_type": "markdown",
      "source": [
        "**DeepOnet**\n",
        "\n",
        "Learn the solution operators of ODE → We will try to approximate ${\\cal G}$  (the solution of our ODE operator) by two neural networks:\n",
        "\n",
        "\n",
        "$$G_\\theta(u)(y)=\\sum_{k=1}^q\\underset{Branch}{\\underbrace{b_k\\left(u(x_1),u(x_2),...,u(x_m)\\right)}}.\\underset{Trunk}{\\underbrace{t_k(\\textbf{y})}}$$\n",
        "\n",
        "\n",
        "We want to obtain G, so our goal would be:\n",
        "\n",
        " $$\\tilde{{\\cal G}}_(u)(y)\\approx G(u)(y)$$\n",
        "\n",
        "So we will enforce that condition into a loss function:\n",
        "\n",
        "$$\n",
        "\\hat{\\cal L}(\\theta) = \\frac{1}{NP}\\sum_{i=1}^S\\sum_{j=1}^P\\left|\\int_{0}^{y_j}u_i(t)dt -\\tilde{\\cal G}(\\mathbf u_i)\\Big{|}_{y_j}\\right|^2\n",
        "$$\n",
        "\n",
        "$$\n",
        "\\hat{\\cal L}(\\theta) = \\frac{1}{NP}\\sum_{i=1}^N\\sum_{j=1}^P\\left|\\int_{0}^{y_j}u_i(t)dt -\\sum_{k=1}^q{\\cal N}_{\\mathrm{B,k}}(u_i(x_1),u_i(x_2),\\dots,u_i(x_m))\\cdot{\\cal N}_{\\mathrm{T,k}}(y_j)\\right|^2.\n",
        "$$\n",
        "\n",
        "**Parameters** \\\\\n",
        "𝑚 = Number of input sensors\n",
        "\n",
        "$N = N_{train}$ = Number of input functions $𝑢_i(𝑥)$ in our training data\n",
        "\n",
        "$P = 𝑃_{train}$:  Number of collocation points $(y_j)_{j=1}^P$\n",
        "\n",
        "$P_{test}$:  Number of points at which we evaluate the antiderivative $\\tilde{\\cal 𝐺}(𝑢)$ of the test sample u\n",
        "\n",
        "$\\underset{N_{train} \\ sets \\ generated}{\\underbrace{(u_{train}\\in R^{P \\ \\times \\ m}, y_{train}\\in R^P, s_{train}\\in R^P)}}$\n",
        "\n",
        "$\\underset{N_{test}=1 \\ set \\ generated}{\\underbrace{u_{test}\\in R^{P_{test} \\ \\times \\ m}, y_{test}\\in R^{P_{test}}, s_{test}\\in R^{P_{test}}}}$\n",
        "\n",
        "**Note:** both the function $u_i(t)$ and the integral $\\int_{0}^{y_j}u_i(t)dt$ and the function are sampled/evaluated over the domain [0,1]."
      ],
      "metadata": {
        "id": "J9hnx33ugkU4"
      }
    },
    {
      "cell_type": "code",
      "execution_count": 63,
      "metadata": {
        "id": "RYgLS4yLXl20"
      },
      "outputs": [],
      "source": [
        "# Geneate TRAINING data corresponding to one input sample\n",
        "def generate_one_training_data(degree, key, m, P):\n",
        "  # Sample polynomial at `m` sensors\n",
        "  samples = sample_polynomial(degree, m, key)\n",
        "  coeffs = np.polyfit(samples[:, 0], samples[:, 1], degree)\n",
        "\n",
        "  # Create a callable interpolation function \n",
        "  u_fn = lambda x, t: np.polyval(coeffs, t)\n",
        "\n",
        "  # Input sensor locations and measurements\n",
        "  u = samples[:,1]\n",
        "\n",
        "  # Output sensor locations and measurements\n",
        "  y_train = random.uniform(key=key, shape=(P,)).sort()\n",
        "  s_train = odeint(u_fn, 0.0, np.hstack((0.0, y_train)))[1:] #JAX has a bug and always returns s(0), so we add a dummy entry to y and return s[1:]\n",
        "\n",
        "  # Tile inputs\n",
        "  u_train = np.tile(u, (P,1))\n",
        "\n",
        "  return u_train, y_train, s_train\n"
      ]
    },
    {
      "cell_type": "code",
      "execution_count": 64,
      "metadata": {
        "id": "zSH-QrTRXoIW"
      },
      "outputs": [],
      "source": [
        "# Generate TEST data corresponding to one input sample\n",
        "def generate_one_test_data(degree, domain_min, domain_max, key, m, P):\n",
        "  # Sample polynomial at `m` sensors\n",
        "  samples = sample_polynomial(degree, m, key)\n",
        "  coeffs = np.polyfit(samples[:, 0], samples[:, 1], degree)\n",
        "\n",
        "  # Create a callable interpolation function \n",
        "  u_fn = lambda x, t: np.polyval(coeffs, t)\n",
        "\n",
        "  # Input sensor locations and measurements\n",
        "  u = samples[:,1]\n",
        "\n",
        "  # Output sensor locations and measurements\n",
        "  y = np.linspace(domain_min, domain_max, P)\n",
        "  s = odeint(u_fn, 0.0, y)\n",
        "\n",
        "  # Tile inputs\n",
        "  u = np.tile(u, (P,1))\n",
        "  \n",
        "  return u, y, s\n"
      ]
    },
    {
      "cell_type": "markdown",
      "metadata": {
        "id": "YBU0D30FXswd"
      },
      "source": [
        "# Generate Data "
      ]
    },
    {
      "cell_type": "code",
      "source": [
        "# Training Data \n",
        "N_train = 10 # number of input functions\n",
        "P_train = 50   # number of collocation points\n",
        "config.update(\"jax_enable_x64\", True) # Enable double precision\n",
        "key_train = random.PRNGKey(0)  # use different keys for generating training data and test data \n",
        "keys = random.split(key_train, N_train) # Obtain 10000 random numbers\n",
        "     \n",
        "gen_fn = jit(lambda key: generate_one_training_data(degree, key, m, P_train)) \n",
        "u_train, y_train, s_train = vmap(gen_fn)(keys)\n",
        "\n",
        "# # DEBUG\n",
        "# for i in range(len(y_train)):\n",
        "#     print(\"u_train[\", i, \"]: \", u_train[i])\n",
        "# for i in range(len(y_train)):\n",
        "#   print(\"y_train[\", i, \"]: \", y_train[i])\n",
        "# for i in range(len(y_train)):\n",
        "#   print(\"s_train[\", i, \"]: \", s_train[i]) \n",
        "\n",
        "#Reshape the data\n",
        "u_train = np.float32(u_train.reshape(N_train * P_train,-1))\n",
        "y_train = np.float32(y_train.reshape(N_train * P_train,-1))\n",
        "s_train = np.float32(s_train.reshape(N_train * P_train,-1))"
      ],
      "metadata": {
        "id": "HDRrF9cvttRE"
      },
      "execution_count": 69,
      "outputs": []
    },
    {
      "cell_type": "code",
      "source": [
        "# Testing Data\n",
        "N_test = 1 # number of input samples \n",
        "P_test = 100 # number of test 'collocation' points \n",
        "key_test = random.PRNGKey(12345) # a different key \n",
        "     \n",
        "keys = random.split(key_test, N_test)\n",
        "gen_fn = jit(lambda key: generate_one_test_data(degree, domain_min, domain_max, key, m, P_test))\n",
        "u, y, s = vmap(gen_fn)(keys)\n",
        "\n",
        "uflat1 = u[0,:]\n",
        "uflat2 = uflat1[0,:]\n",
        "print('TEST polynomial coefficients, given in descending order of power, are: ', np.polyfit(x, uflat2, degree))\n",
        "\n",
        "# # # DEBUG\n",
        "# for i in range(len(y)):\n",
        "#     print(\"u[\", i, \"]: \", u[i])\n",
        "# for i in range(len(y)):\n",
        "#   print(\"y[\", i, \"]: \", y[i])\n",
        "# for i in range(len(y)):\n",
        "#   print(\"s[\", i, \"]: \", s[i])\n",
        "\n",
        "#Reshape the data\n",
        "u_test = np.float32(u.reshape(N_test * P_test,-1))\n",
        "y_test = np.float32(y.reshape(N_test * P_test,-1))\n",
        "s_test = np.float32(s.reshape(N_test * P_test,-1))"
      ],
      "metadata": {
        "id": "C0kpKqPUtxNh"
      },
      "execution_count": null,
      "outputs": []
    },
    {
      "cell_type": "code",
      "execution_count": 75,
      "metadata": {
        "id": "pi1-Lv7fXrNP"
      },
      "outputs": [],
      "source": [
        "# Data generator\n",
        "class DataGenerator(data.Dataset):\n",
        "    def __init__(self, u, y, s, batch_size=64, rng_key=random.PRNGKey(1234)):\n",
        "        'Initialization'\n",
        "        self.u = u # input sample\n",
        "        self.y = y # location\n",
        "        self.s = s # labeled data evulated at y (solution measurements)\n",
        "        self.N = u.shape[0]\n",
        "        self.batch_size = batch_size\n",
        "        self.key = rng_key\n",
        "\n",
        "    def __getitem__(self, index):\n",
        "        'Generate one batch of data'\n",
        "        self.key, subkey = random.split(self.key)\n",
        "        inputs, outputs = self.__data_generation(subkey)\n",
        "        return inputs, outputs\n",
        "\n",
        "    @partial(jit, static_argnums=(0,))\n",
        "    def __data_generation(self, key):\n",
        "        'Generates data containing batch_size samples'\n",
        "        idx = random.choice(key, self.N, (self.batch_size,), replace=False)\n",
        "        s = self.s[idx,:]\n",
        "        y = self.y[idx,:]\n",
        "        u = self.u[idx,:]\n",
        "        # Construct batch\n",
        "        inputs = (u, y)\n",
        "        outputs = s\n",
        "        return inputs, outputs"
      ]
    },
    {
      "cell_type": "markdown",
      "metadata": {
        "id": "wqnip1BRXwT1"
      },
      "source": [
        "# DeepONet "
      ]
    },
    {
      "cell_type": "code",
      "execution_count": 24,
      "metadata": {
        "id": "VFtG0SctXwDq"
      },
      "outputs": [],
      "source": [
        "# Define the neural net\n",
        "def MLP(layers, activation=relu):\n",
        "  ''' Vanilla MLP'''\n",
        "  def init(rng_key):\n",
        "      def init_layer(key, d_in, d_out):\n",
        "          k1, k2 = random.split(key)\n",
        "          glorot_stddev = 1. / np.sqrt((d_in + d_out) / 2.)\n",
        "          W = glorot_stddev * random.normal(k1, (d_in, d_out))\n",
        "          b = np.zeros(d_out)\n",
        "          return W, b\n",
        "      key, *keys = random.split(rng_key, len(layers))\n",
        "      params = list(map(init_layer, keys, layers[:-1], layers[1:]))\n",
        "      return params\n",
        "  def apply(params, inputs):\n",
        "      for W, b in params[:-1]:\n",
        "          outputs = np.dot(inputs, W) + b\n",
        "          inputs = activation(outputs)\n",
        "      W, b = params[-1]\n",
        "      outputs = np.dot(inputs, W) + b\n",
        "      return outputs\n",
        "  return init, apply\n",
        "     "
      ]
    },
    {
      "cell_type": "code",
      "source": [
        "# Define the model\n",
        "class DeepONet:\n",
        "    def __init__(self, branch_layers, trunk_layers):    \n",
        "        # Network initialization and evaluation functions\n",
        "        self.branch_init, self.branch_apply = MLP(branch_layers, activation=relu)\n",
        "        self.trunk_init, self.trunk_apply = MLP(trunk_layers, activation=relu)\n",
        "\n",
        "        # Initialize\n",
        "        branch_params = self.branch_init(rng_key = random.PRNGKey(1234))\n",
        "        trunk_params = self.trunk_init(rng_key = random.PRNGKey(4321))\n",
        "        params = (branch_params, trunk_params)\n",
        "\n",
        "        # Use optimizers to set optimizer initialization and update functions\n",
        "        self.opt_init, \\\n",
        "        self.opt_update, \\\n",
        "        self.get_params = optimizers.adam(optimizers.exponential_decay(1e-3, \n",
        "                                                                      decay_steps=1000, \n",
        "                                                                      decay_rate=0.9))\n",
        "        self.opt_state = self.opt_init(params)\n",
        "\n",
        "        self.itercount = itertools.count()\n",
        "        # Logger\n",
        "        self.loss_log = []\n",
        "\n",
        "    # Define opeartor net\n",
        "    def operator_net(self, params, u, y):\n",
        "        branch_params, trunk_params = params\n",
        "        B = self.branch_apply(branch_params, u)\n",
        "        T = self.trunk_apply(trunk_params, y)\n",
        "        outputs = np.sum(B * T)\n",
        "        return outputs\n",
        "      \n",
        "    # Define ODE/PDE residual\n",
        "    def residual_net(self, params, u, y):\n",
        "        s_y = grad(self.operator_net, argnums = 2)(params, u, y)\n",
        "        return s_y\n",
        "\n",
        "    # Define loss\n",
        "    def loss(self, params, batch):\n",
        "        # Fetch data\n",
        "        # inputs: (u, y), shape = (N, m), (N,1)\n",
        "        # outputs: s, shape = (N,1)\n",
        "        inputs, outputs = batch\n",
        "        u, y = inputs\n",
        "        # Compute forward pass\n",
        "        # print(\"params:\", params)\n",
        "        pred = vmap(self.operator_net, (None, 0, 0))(params, u, y)\n",
        "        # Compute loss\n",
        "        loss = np.mean((outputs.flatten() - pred)**2)\n",
        "        # print(\"Inputs:\", inputs)\n",
        "        return loss\n",
        "\n",
        "    # Define a compiled update step\n",
        "    @partial(jit, static_argnums=(0,))\n",
        "    def step(self, i, opt_state, batch):\n",
        "        params = self.get_params(opt_state)\n",
        "        g = grad(self.loss)(params, batch)\n",
        "        return self.opt_update(i, g, opt_state)\n",
        "\n",
        "    # Optimize parameters in a loop\n",
        "    def train(self, dataset, nIter = 10000):\n",
        "        data = iter(dataset)\n",
        "        pbar = trange(nIter)\n",
        "        # Main training loop\n",
        "        for it in pbar:\n",
        "            batch = next(data)\n",
        "            self.opt_state = self.step(next(self.itercount), self.opt_state, batch)\n",
        "            \n",
        "            if it % 100 == 0:\n",
        "                params = self.get_params(self.opt_state)\n",
        "\n",
        "                # Compute loss\n",
        "                loss_value = self.loss(params, batch)\n",
        "\n",
        "                # Store loss\n",
        "                self.loss_log.append(loss_value)\n",
        "\n",
        "                # Print loss during training\n",
        "                pbar.set_postfix({'Loss': loss_value})\n",
        "       \n",
        "    # Evaluates predictions at test points  \n",
        "    @partial(jit, static_argnums=(0,))\n",
        "    def predict_s(self, params, U_star, Y_star):\n",
        "        s_pred = vmap(self.operator_net, (None, 0, 0))(params, U_star, Y_star)\n",
        "        return s_pred\n",
        "\n",
        "    @partial(jit, static_argnums=(0,))\n",
        "    def predict_s_y(self, params, U_star, Y_star):\n",
        "        s_y_pred = vmap(self.residual_net, (None, 0, 0))(params, U_star, Y_star)\n",
        "        return s_y_pred"
      ],
      "metadata": {
        "id": "-2mUQ5RAorgK"
      },
      "execution_count": 25,
      "outputs": []
    },
    {
      "cell_type": "markdown",
      "metadata": {
        "id": "Cp49e2OnX1i4"
      },
      "source": [
        "# Evaluate operator"
      ]
    },
    {
      "cell_type": "code",
      "execution_count": 76,
      "metadata": {
        "id": "-LlalLb_X2rC",
        "colab": {
          "base_uri": "https://localhost:8080/"
        },
        "outputId": "c55b160f-02f3-4082-9fad-532b66f77f4d"
      },
      "outputs": [
        {
          "output_type": "stream",
          "name": "stderr",
          "text": [
            "100%|██████████| 1000/1000 [00:01<00:00, 741.72it/s, Loss=0.0027221436038608634]\n"
          ]
        },
        {
          "output_type": "stream",
          "name": "stdout",
          "text": [
            "Solution Error:  0.024373575149697204 Input Error:  0.087407656\n"
          ]
        }
      ],
      "source": [
        "# Initialize model\n",
        "# For vanilla DeepONet, shallower network yields better accuarcy.\n",
        "branch_layers = [100, 100, 100] \n",
        "trunk_layers =  [1, 100, 100]\n",
        "\n",
        "model = DeepONet(branch_layers, trunk_layers)\n",
        "\n",
        "# Create data set\n",
        "batch_size = 10\n",
        "dataset = DataGenerator(u_train, y_train, s_train, batch_size)\n",
        "\n",
        "# Train\n",
        "model.train(dataset, nIter=1000)\n",
        "\n",
        "# Predict\n",
        "params = model.get_params(model.opt_state)\n",
        "s_pred = model.predict_s(params, u_test, y_test)[:,None]  \n",
        "s_y_pred = model.predict_s_y(params, u_test, y_test) # remember that s_y=ds/dy=u\n",
        "    \n",
        "# Compute relative l2 error\n",
        "error_s = np.linalg.norm(s_test - s_pred) / np.linalg.norm(s_test) \n",
        "error_u = np.linalg.norm(u_test[::P_test].flatten()[:,None] - s_y_pred) / np.linalg.norm(u_test[::P_test].flatten()[:,None])  \n",
        "\n",
        "print('Solution Error: ', error_s, 'Input Error: ', error_u)\n"
      ]
    },
    {
      "cell_type": "markdown",
      "metadata": {
        "id": "I_U2IjaOX75e"
      },
      "source": [
        "# Visualise the results for the first function in our Testing Dataset"
      ]
    },
    {
      "cell_type": "code",
      "execution_count": 77,
      "metadata": {
        "colab": {
          "base_uri": "https://localhost:8080/",
          "height": 369
        },
        "id": "EiSiWjOcX88y",
        "outputId": "2accc503-c6ae-456f-ced6-76491088fde4"
      },
      "outputs": [
        {
          "output_type": "stream",
          "name": "stdout",
          "text": [
            "error_u: 2.437e-02\n"
          ]
        },
        {
          "output_type": "display_data",
          "data": {
            "text/plain": [
              "<Figure size 864x360 with 2 Axes>"
            ],
            "image/png": "[encoded data removed]"
          },
          "metadata": {
            "needs_background": "light"
          }
        }
      ],
      "source": [
        "idx=0\n",
        "index = np.arange(idx * P_test,(idx + 1) * P_test)\n",
        "     \n",
        "# Compute the relative l2 error for one input sample \n",
        "error_u = np.linalg.norm(s_test[index, :] - s_pred[index, :], 2) / np.linalg.norm(s_test[index, :], 2) \n",
        "error_s = np.linalg.norm(u_test[::P_test][idx].flatten()[:,None] - s_y_pred[index, :], 2) / np.linalg.norm(u_test[::P_test][idx].flatten()[:,None], 2) \n",
        "\n",
        "print(\"error_u: {:.3e}\".format(error_u))\n",
        "# print(\"error_s: {:.3e}\".format(error_s))\n",
        "\n",
        "# Visualizations\n",
        "# Predicted solution s(y)\n",
        "plt.figure(figsize=(12,5))\n",
        "plt.subplot(1,2,1)\n",
        "plt.plot(y_test[index, :], s_test[index, :], label='Exact s', lw=2)\n",
        "plt.plot(y_test[index, :], s_pred[index, :], '--', label='Predicted s', lw=2)\n",
        "plt.xlabel('y')\n",
        "plt.ylabel('s(y)')\n",
        "plt.tight_layout()\n",
        "plt.legend()\n",
        "\n",
        "plt.subplot(1,2,2)\n",
        "plt.plot(y_test[index, :], s_pred[index, :] - s_test[index, :], '--', lw=2, label='error')\n",
        "plt.tight_layout()\n",
        "plt.legend()\n",
        "plt.show()\n",
        "\n",
        "# Predicted residual u(x)\n",
        "# fig = plt.figure(figsize=(12,5))\n",
        "# plt.subplot(1,2,1)\n",
        "# plt.plot(y_test[index, :], u_test[::P_test][idx], label='Exact u', lw=2)\n",
        "# plt.plot(y_test[index, :], s_y_pred[index,:], '--', label='Predicted u', lw=2)\n",
        "# plt.legend()\n",
        "# plt.tight_layout()\n",
        "\n",
        "# plt.subplot(1,2,2)\n",
        "# plt.plot(y_test[index, :], s_y_pred[index,:].flatten() - u_test[::P_test][idx] , '--', label='error', lw=2)\n",
        "# plt.legend()\n",
        "# plt.tight_layout()\n",
        "# plt.show()"
      ]
    }
  ],
  "metadata": {
    "colab": {
      "provenance": [],
      "collapsed_sections": [
        "fwqCGR1sVjTS",
        "58GlgCgaXPwx",
        "jQah3Jj8WJY1",
        "wqnip1BRXwT1"
      ],
      "authorship_tag": "ABX9TyNK05f1Fl45QE1fjEaosC9y"
    },
    "kernelspec": {
      "display_name": "Python 3",
      "name": "python3"
    },
    "language_info": {
      "name": "python"
    }
  },
  "nbformat": 4,
  "nbformat_minor": 0
}